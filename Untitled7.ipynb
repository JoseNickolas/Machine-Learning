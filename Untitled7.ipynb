{
 "cells": [
  {
   "cell_type": "code",
   "execution_count": 129,
   "metadata": {
    "collapsed": true
   },
   "outputs": [],
   "source": [
    "import pandas as pd\n",
    "import numpy as np"
   ]
  },
  {
   "cell_type": "code",
   "execution_count": 256,
   "metadata": {},
   "outputs": [
    {
     "data": {
      "text/html": [
       "<div>\n",
       "<style scoped>\n",
       "    .dataframe tbody tr th:only-of-type {\n",
       "        vertical-align: middle;\n",
       "    }\n",
       "\n",
       "    .dataframe tbody tr th {\n",
       "        vertical-align: top;\n",
       "    }\n",
       "\n",
       "    .dataframe thead th {\n",
       "        text-align: right;\n",
       "    }\n",
       "</style>\n",
       "<table border=\"1\" class=\"dataframe\">\n",
       "  <thead>\n",
       "    <tr style=\"text-align: right;\">\n",
       "      <th></th>\n",
       "      <th>Pregnancies</th>\n",
       "      <th>Glucose</th>\n",
       "      <th>BloodPressure</th>\n",
       "      <th>SkinThickness</th>\n",
       "      <th>Insulin</th>\n",
       "      <th>BMI</th>\n",
       "      <th>DiabetesPedigreeFunction</th>\n",
       "      <th>Age</th>\n",
       "      <th>Outcome</th>\n",
       "    </tr>\n",
       "  </thead>\n",
       "  <tbody>\n",
       "    <tr>\n",
       "      <th>0</th>\n",
       "      <td>6</td>\n",
       "      <td>148</td>\n",
       "      <td>72</td>\n",
       "      <td>35</td>\n",
       "      <td>0</td>\n",
       "      <td>33.6</td>\n",
       "      <td>0.627</td>\n",
       "      <td>50</td>\n",
       "      <td>1</td>\n",
       "    </tr>\n",
       "    <tr>\n",
       "      <th>1</th>\n",
       "      <td>1</td>\n",
       "      <td>85</td>\n",
       "      <td>66</td>\n",
       "      <td>29</td>\n",
       "      <td>0</td>\n",
       "      <td>26.6</td>\n",
       "      <td>0.351</td>\n",
       "      <td>31</td>\n",
       "      <td>0</td>\n",
       "    </tr>\n",
       "    <tr>\n",
       "      <th>2</th>\n",
       "      <td>8</td>\n",
       "      <td>183</td>\n",
       "      <td>64</td>\n",
       "      <td>0</td>\n",
       "      <td>0</td>\n",
       "      <td>23.3</td>\n",
       "      <td>0.672</td>\n",
       "      <td>32</td>\n",
       "      <td>1</td>\n",
       "    </tr>\n",
       "    <tr>\n",
       "      <th>3</th>\n",
       "      <td>1</td>\n",
       "      <td>89</td>\n",
       "      <td>66</td>\n",
       "      <td>23</td>\n",
       "      <td>94</td>\n",
       "      <td>28.1</td>\n",
       "      <td>0.167</td>\n",
       "      <td>21</td>\n",
       "      <td>0</td>\n",
       "    </tr>\n",
       "    <tr>\n",
       "      <th>4</th>\n",
       "      <td>0</td>\n",
       "      <td>137</td>\n",
       "      <td>40</td>\n",
       "      <td>35</td>\n",
       "      <td>168</td>\n",
       "      <td>43.1</td>\n",
       "      <td>2.288</td>\n",
       "      <td>33</td>\n",
       "      <td>1</td>\n",
       "    </tr>\n",
       "  </tbody>\n",
       "</table>\n",
       "</div>"
      ],
      "text/plain": [
       "   Pregnancies  Glucose  BloodPressure  SkinThickness  Insulin   BMI  \\\n",
       "0            6      148             72             35        0  33.6   \n",
       "1            1       85             66             29        0  26.6   \n",
       "2            8      183             64              0        0  23.3   \n",
       "3            1       89             66             23       94  28.1   \n",
       "4            0      137             40             35      168  43.1   \n",
       "\n",
       "   DiabetesPedigreeFunction  Age  Outcome  \n",
       "0                     0.627   50        1  \n",
       "1                     0.351   31        0  \n",
       "2                     0.672   32        1  \n",
       "3                     0.167   21        0  \n",
       "4                     2.288   33        1  "
      ]
     },
     "execution_count": 256,
     "metadata": {},
     "output_type": "execute_result"
    }
   ],
   "source": [
    "df = pd.read_csv('diabetes.csv')\n",
    "df.head()"
   ]
  },
  {
   "cell_type": "code",
   "execution_count": 257,
   "metadata": {
    "collapsed": true
   },
   "outputs": [],
   "source": [
    "def split_train_test(data, test_ratio):\n",
    "    shuffled_indices = np.random.permutation(len(data))\n",
    "    test_set_size = int(len(data) * test_ratio)\n",
    "    test_indices = shuffled_indices[:test_set_size]\n",
    "    train_indices = shuffled_indices[test_set_size:]\n",
    "    return data.iloc[train_indices], data.iloc[test_indices]"
   ]
  },
  {
   "cell_type": "code",
   "execution_count": 267,
   "metadata": {},
   "outputs": [],
   "source": [
    "def diagnosed_case():\n",
    "    if df['Outcome'] == 1:\n",
    "        return diabetic \n",
    "    if df['Outcome'] == 0:\n",
    "        return non_diabetic"
   ]
  },
  {
   "cell_type": "code",
   "execution_count": 268,
   "metadata": {
    "collapsed": true
   },
   "outputs": [],
   "source": [
    "def prob_diabetic():\n",
    "    prob_diagnosed = len(diabetic)/len(df)\n",
    "    return prob_diagnosed"
   ]
  },
  {
   "cell_type": "code",
   "execution_count": 271,
   "metadata": {},
   "outputs": [],
   "source": [
    "def prob_non_diabetic():\n",
    "    prob_non_diagnosed = len(non_diabetic)/len(df)\n",
    "    return prob_non_diagnosed"
   ]
  },
  {
   "cell_type": "code",
   "execution_count": 273,
   "metadata": {},
   "outputs": [],
   "source": [
    "def diabetic_means():\n",
    "    d_means = diabetic.mean()\n",
    "    return d_means"
   ]
  },
  {
   "cell_type": "code",
   "execution_count": 274,
   "metadata": {
    "collapsed": true
   },
   "outputs": [],
   "source": [
    "def non_diabetic_mean():\n",
    "    non_d_mean = non_diabetic.mean()\n",
    "    return non_d_mean"
   ]
  },
  {
   "cell_type": "code",
   "execution_count": null,
   "metadata": {
    "collapsed": true
   },
   "outputs": [],
   "source": [
    "def diabetic_var():\n",
    "    d_var = "
   ]
  },
  {
   "cell_type": "code",
   "execution_count": null,
   "metadata": {
    "collapsed": true
   },
   "outputs": [],
   "source": []
  },
  {
   "cell_type": "code",
   "execution_count": null,
   "metadata": {
    "collapsed": true
   },
   "outputs": [],
   "source": []
  },
  {
   "cell_type": "code",
   "execution_count": 157,
   "metadata": {
    "collapsed": true
   },
   "outputs": [],
   "source": [
    "def class_variance():\n",
    "    df_variance = df.groupby('Outcome').var()\n",
    "    return df_variance"
   ]
  },
  {
   "cell_type": "code",
   "execution_count": 169,
   "metadata": {},
   "outputs": [],
   "source": [
    "def means_non_diagnosed(non_pregnancies_means,non_glucose_means,non_blood_means,non_skin_means,non_insulin_means,non_bmi_means,non_pedigree_means,non_age_means):\n",
    "    non_pregnancies_means = df_means['Pregnancies'][df_variance.index == 0].values[0]\n",
    "    non_glucose_means = df_means['Glucose'][df_variance.index == 0].values[0]\n",
    "    non_blood_means = df_means['BloodPressure'][df_variance.index == 0].values[0]\n",
    "    non_skin_means = df_means['SkinThickness'][df_variance.index == 0].values[0]\n",
    "    non_insulin_means = df_means['Insulin'][df_variance.index == 0].values[0]\n",
    "    non_bmi_means = df_means['BMI'][df_variance.index == 0].values[0]\n",
    "    non_pedigree_means = df_means['DiabetesPedigreeFunction'][df_variance.index == 0].values[0]\n",
    "    non_age_means = df_means['Age'][df_variance.index == 0].values[0]\n",
    "    return(non_pregnancies_means,non_glucose_means,non_blood_means,non_skin_means,non_insulin_means,non_bmi_means,non_pedigree_means,non_age_means)"
   ]
  },
  {
   "cell_type": "code",
   "execution_count": 170,
   "metadata": {
    "collapsed": true
   },
   "outputs": [],
   "source": [
    "def var_non_diagnosed():\n",
    "    non_pregnancies_var = df_variance['Pregnancies'][df_variance.index == 0].values[0]\n",
    "    non_glucose_var = df_variance['Glucose'][df_variance.index == 0].values[0]\n",
    "    non_blood_var = df_variance['BloodPressure'][df_variance.index == 0].values[0]\n",
    "    non_skin_var = df_variance['SkinThickness'][df_variance.index == 0].values[0]\n",
    "    non_insulin_var = df_variance['Insulin'][df_variance.index == 0].values[0]\n",
    "    non_bmi_var = df_variance['BMI'][df_variance.index == 0].values[0]\n",
    "    non_pedigree_var = df_variance['DiabetesPedigreeFunction'][df_variance.index == 0].values[0]\n",
    "    non_age_var = df_variance['Age'][df_variance.index == 0].values[0]\n",
    "    return(non_pregnancies_var,non_glucose_var,non_blood_var,non_skin_var,non_insulin_var,non_bmi_var)"
   ]
  },
  {
   "cell_type": "code",
   "execution_count": 171,
   "metadata": {
    "collapsed": true
   },
   "outputs": [],
   "source": [
    "def means_diagnosed():\n",
    "    diagnosed_pregnancies_means = df_means['Pregnancies'][df_variance.index == 1].values[0]\n",
    "    diagnosed_glucose_means = df_means['Glucose'][df_variance.index == 1].values[0]\n",
    "    diagnosed_blood_means = df_means['BloodPressure'][df_variance.index == 1].values[0]\n",
    "    diagnosed_skin_means = df_means['SkinThickness'][df_variance.index == 1].values[0]\n",
    "    diagnosed_insulin_means = df_means['Insulin'][df_variance.index == 1].values[0]\n",
    "    diagnosed_bmi_means = df_means['BMI'][df_variance.index == 1].values[0]\n",
    "    diagnosed_pedigree_means = df_means['DiabetesPedigreeFunction'][df_variance.index == 1].values[0]\n",
    "    diagnosed_age_means = df_means['Age'][df_variance.index == 1].values[0]\n",
    "    return means_diagnosed"
   ]
  },
  {
   "cell_type": "code",
   "execution_count": 68,
   "metadata": {
    "collapsed": true
   },
   "outputs": [],
   "source": [
    "def var_diagnosed():\n",
    "    diagnosed_pregnancies_var = df_variance['Pregnancies'][df_variance.index == 1].values[0]\n",
    "    diagnosed_glucose_var = df_variance['Glucose'][df_variance.index == 1].values[0]\n",
    "    diagnosed_blood_var = df_variance['BloodPressure'][df_variance.index == 1].values[0]\n",
    "    diagnosed_skin_var = df_variance['SkinThickness'][df_variance.index == 1].values[0]\n",
    "    diagnosed_insulin_var = df_variance['Insulin'][df_variance.index == 1].values[0]\n",
    "    diagnosed_bmi_var = df_variance['BMI'][df_variance.index == 1].values[0]\n",
    "    diagnosed_pedigree_var = df_variance['DiabetesPedigreeFunction'][df_variance.index == 1].values[0]\n",
    "    diagnosed_age_var = df_variance['Age'][df_variance.index == 1].values[0]\n",
    "    return var_diagnosed"
   ]
  },
  {
   "cell_type": "code",
   "execution_count": 69,
   "metadata": {
    "collapsed": true
   },
   "outputs": [],
   "source": [
    "def PDF(x, mean_y, variance_y):\n",
    "    prob = 1/(np.sqrt(2*np.pi*variance_y)) * np.exp((-(x-mean_y)**2)/(2*variance_y))\n",
    "    return prob"
   ]
  },
  {
   "cell_type": "code",
   "execution_count": 70,
   "metadata": {
    "collapsed": true
   },
   "outputs": [],
   "source": [
    "def total_obs():\n",
    "    total_observations = df['outcome'].count()\n",
    "    return total_observations"
   ]
  },
  {
   "cell_type": "code",
   "execution_count": 71,
   "metadata": {
    "collapsed": true
   },
   "outputs": [],
   "source": [
    "def p_non_diagnosed_cases():\n",
    "    non_diagnosed = df[df['Outcome'] == 0]\n",
    "    n_non_diagnosed = len(non_diagnosed)\n",
    "    P_non_diagnosed = n_non_diagnosed / total_observations\n",
    "    return P_non_diagnosed"
   ]
  },
  {
   "cell_type": "code",
   "execution_count": 72,
   "metadata": {
    "collapsed": true
   },
   "outputs": [],
   "source": [
    "def p_diagnosed_cases():\n",
    "    diabetes_diagnosed = df[df['Outcome'] == 1]\n",
    "    n_diagnosed = len(diabetes_diagnosed)\n",
    "    P_diagnosed = n_diagnosed / total_observations\n",
    "    return P_diagnosed"
   ]
  },
  {
   "cell_type": "code",
   "execution_count": 73,
   "metadata": {
    "collapsed": true
   },
   "outputs": [],
   "source": [
    "def class_probs_non_diagnosed():\n",
    "    non_diagnosed = P_non_diagnosed * \\\n",
    "    PDF(person['Pregnancies'][0], non_pregnancies_means, non_pregnancies_var) * \\\n",
    "    PDF(person['Glucose'][0], non_glucose_means, non_glucose_var) * \\\n",
    "    PDF(person['BloodPressure'][0], non_blood_means, non_blood_var) * \\\n",
    "    PDF(person['SkinThickness'][0], non_skin_means, non_skin_var) * \\\n",
    "    PDF(person['Insulin'][0], non_insulin_means, non_insulin_var) * \\\n",
    "    PDF(person['BMI'][0], non_bmi_means, non_bmi_var) * \\\n",
    "    PDF(person['DiabetesPedigreeFunction'][0], non_pedigree_means, non_pedigree_var) * \\\n",
    "    PDF(person['Age'][0], non_age_means, non_age_var)\n",
    "    return non_diagnosed"
   ]
  },
  {
   "cell_type": "code",
   "execution_count": 74,
   "metadata": {
    "collapsed": true
   },
   "outputs": [],
   "source": [
    "def class_probs_diagnosed():\n",
    "    diagnosed = P_diagnosed * \\\n",
    "    PDF(person['Pregnancies'][0], diagnosed_pregnancies_means, diagnosed_pregnancies_var) * \\\n",
    "    PDF(person['Glucose'][0], diagnosed_glucose_means, diagnosed_glucose_var) * \\\n",
    "    PDF(person['BloodPressure'][0], diagnosed_blood_means, diagnosed_blood_var) * \\\n",
    "    PDF(person['SkinThickness'][0], diagnosed_skin_means, diagnosed_skin_var) * \\\n",
    "    PDF(person['Insulin'][0], diagnosed_insulin_means, diagnosed_insulin_var) * \\\n",
    "    PDF(person['BMI'][0], diagnosed_bmi_means, diagnosed_bmi_var) * \\\n",
    "    PDF(person['DiabetesPedigreeFunction'][0], diagnosed_pedigree_means, diagnosed_pedigree_var) * \\\n",
    "    PDF(person['Age'][0], diagnosed_age_means, diagnosed_age_var)\n",
    "    return diagnosed"
   ]
  },
  {
   "cell_type": "code",
   "execution_count": 75,
   "metadata": {
    "collapsed": true
   },
   "outputs": [],
   "source": [
    "def get_largest_prob(non_diagnosed, diagnosed):\n",
    "    if non_diagnosed > diagnosed:\n",
    "        return 1\n",
    "    else:\n",
    "        return 0\n",
    "    return prediction"
   ]
  },
  {
   "cell_type": "code",
   "execution_count": 76,
   "metadata": {},
   "outputs": [
    {
     "name": "stdout",
     "output_type": "stream",
     "text": [
      "615 train + 153 test\n"
     ]
    }
   ],
   "source": [
    "train_set, test_set = split_train_test(df, 0.2)\n",
    "print(len(train_set), 'train +', len(test_set), 'test')"
   ]
  },
  {
   "cell_type": "code",
   "execution_count": 77,
   "metadata": {},
   "outputs": [
    {
     "ename": "NameError",
     "evalue": "name 'non_diagnosed' is not defined",
     "output_type": "error",
     "traceback": [
      "\u001b[0;31m---------------------------------------------------------------------------\u001b[0m",
      "\u001b[0;31mNameError\u001b[0m                                 Traceback (most recent call last)",
      "\u001b[0;32m<ipython-input-77-4328076148fe>\u001b[0m in \u001b[0;36m<module>\u001b[0;34m()\u001b[0m\n\u001b[0;32m----> 1\u001b[0;31m \u001b[0mnon_diagnosed\u001b[0m\u001b[0;34m\u001b[0m\u001b[0m\n\u001b[0m",
      "\u001b[0;31mNameError\u001b[0m: name 'non_diagnosed' is not defined"
     ]
    }
   ],
   "source": [
    "non_diagnosed"
   ]
  },
  {
   "cell_type": "code",
   "execution_count": 78,
   "metadata": {},
   "outputs": [
    {
     "ename": "NameError",
     "evalue": "name 'prediction' is not defined",
     "output_type": "error",
     "traceback": [
      "\u001b[0;31m---------------------------------------------------------------------------\u001b[0m",
      "\u001b[0;31mNameError\u001b[0m                                 Traceback (most recent call last)",
      "\u001b[0;32m<ipython-input-78-2a5de621fc01>\u001b[0m in \u001b[0;36m<module>\u001b[0;34m()\u001b[0m\n\u001b[0;32m----> 1\u001b[0;31m \u001b[0mprediction\u001b[0m\u001b[0;34m(\u001b[0m\u001b[0mnon_diagnosed\u001b[0m\u001b[0;34m,\u001b[0m \u001b[0mdiagnosed\u001b[0m\u001b[0;34m)\u001b[0m\u001b[0;34m\u001b[0m\u001b[0m\n\u001b[0m",
      "\u001b[0;31mNameError\u001b[0m: name 'prediction' is not defined"
     ]
    }
   ],
   "source": [
    "prediction(non_diagnosed, diagnosed)"
   ]
  },
  {
   "cell_type": "code",
   "execution_count": null,
   "metadata": {
    "collapsed": true
   },
   "outputs": [],
   "source": []
  },
  {
   "cell_type": "code",
   "execution_count": null,
   "metadata": {
    "collapsed": true
   },
   "outputs": [],
   "source": []
  }
 ],
 "metadata": {
  "kernelspec": {
   "display_name": "Python 3",
   "language": "python",
   "name": "python3"
  },
  "language_info": {
   "codemirror_mode": {
    "name": "ipython",
    "version": 3
   },
   "file_extension": ".py",
   "mimetype": "text/x-python",
   "name": "python",
   "nbconvert_exporter": "python",
   "pygments_lexer": "ipython3",
   "version": "3.6.3"
  }
 },
 "nbformat": 4,
 "nbformat_minor": 2
}
