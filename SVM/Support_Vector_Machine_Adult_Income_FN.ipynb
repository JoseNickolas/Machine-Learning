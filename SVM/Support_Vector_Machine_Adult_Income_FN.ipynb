{
 "cells": [
  {
   "cell_type": "code",
   "execution_count": 6,
   "metadata": {
    "collapsed": true
   },
   "outputs": [],
   "source": [
    "import pandas as pd\n",
    "import numpy as np\n",
    "import matplotlib.pyplot as plt\n",
    "from tqdm.notebook import tqdm"
   ]
  },
  {
   "cell_type": "code",
   "execution_count": 7,
   "metadata": {
    "collapsed": true
   },
   "outputs": [],
   "source": [
    "train = pd.read_csv('train_498AML.csv', header = None)"
   ]
  },
  {
   "cell_type": "code",
   "execution_count": 8,
   "metadata": {
    "collapsed": true
   },
   "outputs": [],
   "source": [
    "train = train.rename(columns = {0:'Age', 1:'workclass', 2:'fnlwgt', 3:'Education', 4:'education-num', 5:'marital-status',\n",
    "                               6:'occupation', 7:'relationship', 8:'race', 9:'sex', 10:'capital-gain', 11:'capital-loss',\n",
    "                               12:'hours-per-week', 13:'native-country', 14:'Class'})"
   ]
  },
  {
   "cell_type": "code",
   "execution_count": 9,
   "metadata": {
    "collapsed": true
   },
   "outputs": [],
   "source": [
    "features = ['Age', 'fnlwgt', 'education-num', 'capital-gain', 'capital-loss', 'hours-per-week']\n",
    "X = train[features]\n",
    "X = X.values"
   ]
  },
  {
   "cell_type": "code",
   "execution_count": 10,
   "metadata": {
    "collapsed": true
   },
   "outputs": [],
   "source": [
    "Y = train['Class']\n",
    "Y = Y.values\n",
    "Y[Y == ' <=50K'] = -1\n",
    "Y[Y == ' >50K'] = 1\n",
    "Y = np.array(Y).astype(int)"
   ]
  },
  {
   "cell_type": "code",
   "execution_count": 11,
   "metadata": {},
   "outputs": [
    {
     "name": "stdout",
     "output_type": "stream",
     "text": [
      "(43957, 6)\n",
      "(43957,)\n"
     ]
    }
   ],
   "source": [
    "print(X.shape)\n",
    "print(Y.shape)"
   ]
  },
  {
   "cell_type": "code",
   "execution_count": 12,
   "metadata": {
    "collapsed": true
   },
   "outputs": [],
   "source": [
    "def train_valid_test_split(X, Y, perc_train, perc_valid, perc_test):\n",
    "    \n",
    "    N = len(Y)\n",
    "    train_size = int((N) * perc_train)\n",
    "    valid_size = int((N) * perc_valid) + train_size\n",
    "    shuffled_idx = np.random.permutation(N)\n",
    "    \n",
    "    train_idx = shuffled_idx[:train_size]\n",
    "    valid_idx = shuffled_idx[train_size:valid_size]\n",
    "    test_idx = shuffled_idx[valid_size:]\n",
    "    \n",
    "    X_train = X[train_idx]\n",
    "    Y_train = Y[train_idx]\n",
    "    \n",
    "    X_valid = X[valid_idx]\n",
    "    Y_valid = Y[valid_idx]\n",
    "    \n",
    "    X_test = X[test_idx]\n",
    "    Y_test = Y[test_idx]\n",
    "    \n",
    "    return X_train, Y_train, X_valid, Y_valid, X_test, Y_test"
   ]
  },
  {
   "cell_type": "code",
   "execution_count": 13,
   "metadata": {
    "collapsed": true
   },
   "outputs": [],
   "source": [
    "perc_train = 0.7\n",
    "perc_valid = 0.2\n",
    "perc_test = 0.1\n",
    "\n",
    "X_train, Y_train, X_valid, Y_valid, X_test, Y_test = train_valid_test_split(X, Y, perc_train, perc_valid, perc_test)"
   ]
  },
  {
   "cell_type": "code",
   "execution_count": 14,
   "metadata": {},
   "outputs": [
    {
     "name": "stdout",
     "output_type": "stream",
     "text": [
      "(30769, 6)\n",
      "(30769,)\n",
      "(8791, 6)\n",
      "(8791,)\n",
      "(4397, 6)\n",
      "(4397,)\n"
     ]
    }
   ],
   "source": [
    "print(X_train.shape)\n",
    "print(Y_train.shape)\n",
    "print(X_valid.shape)\n",
    "print(Y_valid.shape)\n",
    "print(X_test.shape)\n",
    "print(Y_test.shape)"
   ]
  },
  {
   "cell_type": "code",
   "execution_count": 15,
   "metadata": {
    "collapsed": true
   },
   "outputs": [],
   "source": [
    "def scaled_data(X):\n",
    "    \n",
    "    m = X.mean(axis = 0)\n",
    "    s = X.std(axis = 0)\n",
    "    \n",
    "    u = (X - m) / s\n",
    "    \n",
    "    return u"
   ]
  },
  {
   "attachments": {
    "hinge_loss.png": {
     "image/png": "[encoded data removed]"
    }
   },
   "cell_type": "markdown",
   "metadata": {},
   "source": [
    "![hinge_loss.png](attachment:hinge_loss.png)"
   ]
  },
  {
   "cell_type": "code",
   "execution_count": 16,
   "metadata": {
    "collapsed": true
   },
   "outputs": [],
   "source": [
    "def gradient(X, Y, a, b):\n",
    "    \n",
    "    \"\"\"\n",
    "    c = 1 - y * ((a.T * x) + b)\n",
    "    \n",
    "    X = N * D\n",
    "    Y = N * 1\n",
    "    a = 1 * D\n",
    "    b = 1\n",
    "    ---------\n",
    "        N * D\n",
    "    \n",
    "    \"\"\"\n",
    "    \n",
    "    N, D = X.shape\n",
    "    \n",
    "    c = 1 - Y * ((a * X).sum(axis = 1) + b)\n",
    "    \n",
    "    grad_a = np.where(c[:,np.newaxis] > 0, -Y[:,np.newaxis] * X, np.zeros((N, D)))\n",
    "    \n",
    "    grad_b = np.where(c > 0, -Y, np.zeros(N))\n",
    "    \n",
    "    return grad_a, grad_b"
   ]
  },
  {
   "cell_type": "code",
   "execution_count": 17,
   "metadata": {
    "collapsed": true
   },
   "outputs": [],
   "source": [
    "def train_svm(X_train, Y_train, X_test, Y_test, n_epochs, Nb, l, eval_interval = 30):\n",
    "    \n",
    "    X_train = scaled_data(X_train)\n",
    "    \n",
    "    N, D = X_train.shape\n",
    "    \n",
    "    # Define M batches --> M * Nb ~= N\n",
    "    M = np.ceil(N / Nb)\n",
    "    \n",
    "    # Initialize params a & b\n",
    "    a = np.random.normal(size = (D, ))\n",
    "    b = np.random.normal(size = (1, ))\n",
    "    \n",
    "    acc_train = []\n",
    "    acc_test = []\n",
    "    loss_train = []\n",
    "    loss_test = []\n",
    "    norm_a = []\n",
    "    steps_list = []\n",
    "    \n",
    "    step = 0\n",
    "    for e in tqdm(range(n_epochs)):\n",
    "        \n",
    "        # Shuffle data \n",
    "        idx = np.random.permutation(N)\n",
    "        X_train = X_train[idx,:]\n",
    "        Y_train = Y_train[idx]\n",
    "        \n",
    "        # Build M batches for X_train & Y_train\n",
    "        X_batches = np.array_split(X_train, M, axis = 0)\n",
    "        Y_batches = np.array_split(Y_train, M, axis = 0)\n",
    "        \n",
    "        #Define learning rate\n",
    "        etta = 0.1 / (1 * e + n_epochs)\n",
    "        \n",
    "        for (X_batch, Y_batch) in zip(X_batches, Y_batches):\n",
    "            \n",
    "            # compute gradients for a & b\n",
    "            grad_a, grad_b = gradient(X_batch, Y_batch, a, b)\n",
    "            \n",
    "            # Compute the ascent direction for a & b\n",
    "            direction_a = grad_a.mean(axis = 0) + (l * a)\n",
    "            direction_b = grad_b.mean(axis = 0)\n",
    "            \n",
    "            # Update \n",
    "            a = a - etta * direction_a\n",
    "            b = b - etta * direction_b\n",
    "            \n",
    "            step += 1\n",
    "            \n",
    "            if (eval_interval) is not None and (step % eval_interval) == 0:\n",
    "                \n",
    "                # retrieve the steps list\n",
    "                norm_a.append(np.linalg.norm(a))\n",
    "                steps_list.append(step)\n",
    "                \n",
    "                Y_hat_train = test_svm(X_train, a, b)\n",
    "                acc_train.append((Y_hat_train == Y_train).mean())\n",
    "                loss_train.append(hinge_loss(X_train, Y_train, a, b, l))\n",
    "                \n",
    "                Y_hat_test = test_svm(X_test, a, b)\n",
    "                acc_test.append((Y_hat_test == Y_test).mean())\n",
    "                loss_test.append(hinge_loss(X_test, Y_test, a, b, l))\n",
    "                \n",
    "    return a, b, acc_train, acc_test, loss_train, loss_test, norm_a, steps_list"
   ]
  },
  {
   "cell_type": "code",
   "execution_count": 18,
   "metadata": {
    "collapsed": true
   },
   "outputs": [],
   "source": [
    "def test_svm(X, a , b):\n",
    "    \n",
    "    \"\"\"\n",
    "    \n",
    "    y_hat = sign(a * x + b)\n",
    "    \n",
    "    \"\"\"\n",
    "    X = scaled_data(X)\n",
    "    \n",
    "    gamma = (a * X).sum(axis = 1) + b\n",
    "    \n",
    "    Y_hat = np.sign(gamma)\n",
    "    \n",
    "    return Y_hat"
   ]
  },
  {
   "cell_type": "code",
   "execution_count": 19,
   "metadata": {
    "collapsed": true
   },
   "outputs": [],
   "source": [
    "def hinge_loss(X, Y, a, b, l):\n",
    "    \"\"\"\n",
    "    \n",
    "    c = max(0, 1 - y * (a * x) + b) + L / 2 * |a| ^ 2\n",
    "    \n",
    "    \"\"\"\n",
    "    X  = scaled_data(X)\n",
    "    \n",
    "    c = 1 - Y * ((a * X).sum(axis = 1) + b)\n",
    "    c[c < 0] = 0\n",
    "    \n",
    "    return c.mean() + l/2 * np.linalg.norm(a)"
   ]
  },
  {
   "cell_type": "markdown",
   "metadata": {},
   "source": [
    "### Model Selection"
   ]
  },
  {
   "cell_type": "code",
   "execution_count": 20,
   "metadata": {},
   "outputs": [
    {
     "data": {
      "application/vnd.jupyter.widget-view+json": {
       "model_id": "97237288c4a945b58dc69c9b3cb39419",
       "version_major": 2,
       "version_minor": 0
      },
      "text/plain": [
       "A Jupyter Widget"
      ]
     },
     "metadata": {},
     "output_type": "display_data"
    },
    {
     "name": "stdout",
     "output_type": "stream",
     "text": [
      "\n"
     ]
    },
    {
     "data": {
      "application/vnd.jupyter.widget-view+json": {
       "model_id": "d59d89248f0a4747b2f7ab4f06191a45",
       "version_major": 2,
       "version_minor": 0
      },
      "text/plain": [
       "A Jupyter Widget"
      ]
     },
     "metadata": {},
     "output_type": "display_data"
    },
    {
     "name": "stdout",
     "output_type": "stream",
     "text": [
      "\n"
     ]
    },
    {
     "data": {
      "application/vnd.jupyter.widget-view+json": {
       "model_id": "f177674e9df246f084aca1e96077ebdb",
       "version_major": 2,
       "version_minor": 0
      },
      "text/plain": [
       "A Jupyter Widget"
      ]
     },
     "metadata": {},
     "output_type": "display_data"
    },
    {
     "name": "stdout",
     "output_type": "stream",
     "text": [
      "\n"
     ]
    },
    {
     "data": {
      "application/vnd.jupyter.widget-view+json": {
       "model_id": "aa04819edf2e4861a69d1fe96604392c",
       "version_major": 2,
       "version_minor": 0
      },
      "text/plain": [
       "A Jupyter Widget"
      ]
     },
     "metadata": {},
     "output_type": "display_data"
    },
    {
     "name": "stdout",
     "output_type": "stream",
     "text": [
      "\n"
     ]
    },
    {
     "data": {
      "application/vnd.jupyter.widget-view+json": {
       "model_id": "264d3c37e405459bbdadd3f86bfe41d3",
       "version_major": 2,
       "version_minor": 0
      },
      "text/plain": [
       "A Jupyter Widget"
      ]
     },
     "metadata": {},
     "output_type": "display_data"
    },
    {
     "name": "stdout",
     "output_type": "stream",
     "text": [
      "\n"
     ]
    },
    {
     "data": {
      "application/vnd.jupyter.widget-view+json": {
       "model_id": "e3670d0248cb4726956bffb94dd9339d",
       "version_major": 2,
       "version_minor": 0
      },
      "text/plain": [
       "A Jupyter Widget"
      ]
     },
     "metadata": {},
     "output_type": "display_data"
    },
    {
     "name": "stdout",
     "output_type": "stream",
     "text": [
      "\n"
     ]
    },
    {
     "data": {
      "application/vnd.jupyter.widget-view+json": {
       "model_id": "b99892ee48e4457eab1a04753ff68b87",
       "version_major": 2,
       "version_minor": 0
      },
      "text/plain": [
       "A Jupyter Widget"
      ]
     },
     "metadata": {},
     "output_type": "display_data"
    },
    {
     "name": "stdout",
     "output_type": "stream",
     "text": [
      "\n",
      " l = 0.0001, validation accuracy 0.8019565464679786\n",
      " l = 0.001, validation accuracy 0.8074166761460585\n",
      " l = 0.01, validation accuracy 0.8013877829598453\n",
      " l = 0.1, validation accuracy 0.7763621886019793\n",
      " l = 1.0, validation accuracy 0.7674894778750996\n",
      " l = 1.2, validation accuracy 0.7674894778750996\n",
      " l = 1.25, validation accuracy 0.7674894778750996\n"
     ]
    },
    {
     "data": {
      "application/vnd.jupyter.widget-view+json": {
       "model_id": "8622a740e1914260a54f049888c3332a",
       "version_major": 2,
       "version_minor": 0
      },
      "text/plain": [
       "A Jupyter Widget"
      ]
     },
     "metadata": {},
     "output_type": "display_data"
    },
    {
     "name": "stdout",
     "output_type": "stream",
     "text": [
      "\n",
      "The best value for lambda 0.001, with test accuracy 0.8114623607004776\n"
     ]
    },
    {
     "data": {
      "application/vnd.jupyter.widget-view+json": {
       "model_id": "c233adb01e5e4ae69d0848e072c45f21",
       "version_major": 2,
       "version_minor": 0
      },
      "text/plain": [
       "A Jupyter Widget"
      ]
     },
     "metadata": {},
     "output_type": "display_data"
    },
    {
     "name": "stdout",
     "output_type": "stream",
     "text": [
      "\n"
     ]
    }
   ],
   "source": [
    "n_epochs = 100\n",
    "Nb = 35\n",
    "l_coeff = np.array([1e-4, 1e-3, 1e-2, 1e-1, 1, 1.2, 1.25])\n",
    "\n",
    "# Train model on \n",
    "valid_acc_list = []\n",
    "for l in l_coeff:\n",
    "    a, b, *_ = train_svm(X_train, Y_train, None, None, n_epochs, Nb, l, eval_interval = None)\n",
    "    acc = (test_svm(X_valid, a, b) == Y_valid).mean()\n",
    "    valid_acc_list.append(acc)\n",
    "\n",
    "for l, valid_acc in zip(l_coeff, valid_acc_list):\n",
    "    print(f' l = {l}, validation accuracy {valid_acc}')\n",
    "    \n",
    "best_l = l_coeff[np.argmax(valid_acc_list)]\n",
    "\n",
    "# Train model again with best lambda coefficient on the training set & test it on the test set\n",
    "best_a, best_b, *_ = train_svm(X_train, Y_train, None, None, n_epochs, Nb, l = best_l, eval_interval = None)\n",
    "final_acc = (test_svm(X_test, best_a, best_b) == Y_test).mean()\n",
    "\n",
    "print(f'The best value for lambda {best_l}, with test accuracy {final_acc}')\n",
    "\n",
    "# Train model on the whole set with best a & b params & best l\n",
    "best_a, best_b, *_ = train_svm(X, Y, None, None, n_epochs, Nb, l = best_l, eval_interval = None)"
   ]
  },
  {
   "cell_type": "code",
   "execution_count": 21,
   "metadata": {},
   "outputs": [
    {
     "data": {
      "application/vnd.jupyter.widget-view+json": {
       "model_id": "f5e722da00014faaa0b5c308e4e4385c",
       "version_major": 2,
       "version_minor": 0
      },
      "text/plain": [
       "A Jupyter Widget"
      ]
     },
     "metadata": {},
     "output_type": "display_data"
    },
    {
     "name": "stdout",
     "output_type": "stream",
     "text": [
      "\n"
     ]
    },
    {
     "data": {
      "application/vnd.jupyter.widget-view+json": {
       "model_id": "7ce5e60da54a4181bb205a5bb2c79f2b",
       "version_major": 2,
       "version_minor": 0
      },
      "text/plain": [
       "A Jupyter Widget"
      ]
     },
     "metadata": {},
     "output_type": "display_data"
    },
    {
     "name": "stdout",
     "output_type": "stream",
     "text": [
      "\n"
     ]
    },
    {
     "data": {
      "application/vnd.jupyter.widget-view+json": {
       "model_id": "19163c677c6f400da635c89b26689c6d",
       "version_major": 2,
       "version_minor": 0
      },
      "text/plain": [
       "A Jupyter Widget"
      ]
     },
     "metadata": {},
     "output_type": "display_data"
    },
    {
     "name": "stdout",
     "output_type": "stream",
     "text": [
      "\n"
     ]
    },
    {
     "data": {
      "application/vnd.jupyter.widget-view+json": {
       "model_id": "8855a7e44bf04910b38e205a2af14e30",
       "version_major": 2,
       "version_minor": 0
      },
      "text/plain": [
       "A Jupyter Widget"
      ]
     },
     "metadata": {},
     "output_type": "display_data"
    },
    {
     "name": "stdout",
     "output_type": "stream",
     "text": [
      "\n"
     ]
    },
    {
     "data": {
      "application/vnd.jupyter.widget-view+json": {
       "model_id": "4da9696b2b0d4ac5817917a2a4b5c2d1",
       "version_major": 2,
       "version_minor": 0
      },
      "text/plain": [
       "A Jupyter Widget"
      ]
     },
     "metadata": {},
     "output_type": "display_data"
    },
    {
     "name": "stdout",
     "output_type": "stream",
     "text": [
      "\n"
     ]
    },
    {
     "data": {
      "application/vnd.jupyter.widget-view+json": {
       "model_id": "57ac2d60cd0f4506a2665a08f02f1009",
       "version_major": 2,
       "version_minor": 0
      },
      "text/plain": [
       "A Jupyter Widget"
      ]
     },
     "metadata": {},
     "output_type": "display_data"
    },
    {
     "name": "stdout",
     "output_type": "stream",
     "text": [
      "\n",
      "l = 0.0001, with accuracy 0.8022978045728586\n",
      "l = 0.001, with accuracy 0.802184051871232\n",
      "l = 0.01, with accuracy 0.8032078261858719\n",
      "l = 0.1, with accuracy 0.776475941303606\n",
      "l = 1.0, with accuracy 0.7674894778750996\n",
      "l = 1.25, with accuracy 0.7674894778750996\n",
      "best lambda coeff is: 0.01\n"
     ]
    },
    {
     "data": {
      "application/vnd.jupyter.widget-view+json": {
       "model_id": "183843d84d4641a1b6642e00a92ca8a4",
       "version_major": 2,
       "version_minor": 0
      },
      "text/plain": [
       "A Jupyter Widget"
      ]
     },
     "metadata": {},
     "output_type": "display_data"
    },
    {
     "name": "stdout",
     "output_type": "stream",
     "text": [
      "\n",
      "the best value for 1.25, with accuracy 0.8075335565016738\n"
     ]
    }
   ],
   "source": [
    "l_coeff = np.array([1e-4, 1e-3, 1e-2, 1e-1, 1, 1.25])\n",
    "n_epochs = 70\n",
    "Nb = 2\n",
    "\n",
    "# Train model on training set and test it on the validation set\n",
    "final_valid_acc_list = []\n",
    "\n",
    "# to save the performance of the models during training\n",
    "valid_acc_list = []\n",
    "valid_loss_list = []\n",
    "norm_a_list = []\n",
    "\n",
    "for l in l_coeff:\n",
    "    a, b, acc_train, acc_valid, loss_train, loss_valid, norm_a, step_list = train_svm(X_train, Y_train, X_valid, Y_valid, n_epochs, Nb, l, eval_interval = 30)\n",
    "    acc = (test_svm(X_valid, a , b) == Y_valid).mean()\n",
    "    final_valid_acc_list.append(acc)\n",
    "    \n",
    "    valid_acc_list.append(acc_valid)\n",
    "    valid_loss_list.append(loss_valid)\n",
    "    norm_a_list.append(norm_a)\n",
    "    \n",
    "    \n",
    "    \n",
    "for l, valid_acc in zip(l_coeff, final_valid_acc_list):\n",
    "    print(f'l = {l}, with accuracy {valid_acc}')\n",
    "    \n",
    "best_l = l_coeff[np.argmax(final_valid_acc_list)]\n",
    "print(f'best lambda coeff is: {best_l}')\n",
    "\n",
    "# Train model on the training set based on best lambda param and test it on the test set --> isn't best_l in l\n",
    "best_a, best_b, acc_train, acc_test, loss_train, loss_test, norm_a, step_list = train_svm(X_train, Y_train, X_test, Y_test, n_epochs, Nb, l = best_l, eval_interval = 30)\n",
    "\n",
    "final_acc = (test_svm(X_train, best_a, best_b) == Y_train).mean()\n",
    "print(f'the best value for {l}, with accuracy {final_acc}')"
   ]
  },
  {
   "cell_type": "code",
   "execution_count": 24,
   "metadata": {},
   "outputs": [
    {
     "data": {
      "image/png": "[encoded data removed]",
      "text/plain": [
       "<matplotlib.figure.Figure at 0x11a5cb400>"
      ]
     },
     "metadata": {},
     "output_type": "display_data"
    }
   ],
   "source": [
    "fig, axs = plt.subplots(1, 3, figsize=(15, 4))\n",
    "\n",
    "\n",
    "for l, valid_acc in zip(l_coeff, valid_acc_list):\n",
    "    axs[0].plot(step_list, valid_acc, label = l)\n",
    "#     axs[0].set_xlim(0, 200000)\n",
    "axs[0].set_title('Validation Accuracies for Regularization Parameters')\n",
    "axs[0].set_xlabel('Steps')\n",
    "axs[0].set_ylabel('Accurancy')\n",
    "axs[0].legend()\n",
    "\n",
    "for l, valid_loss in zip(l_coeff, valid_loss_list):\n",
    "    axs[1].plot(step_list, valid_loss, label = l)\n",
    "#     axs[1].set_xlim(0, 200000)\n",
    "axs[1].set_title('Validation Loss for Regularization Parameters')\n",
    "axs[1].set_xlabel('Steps')\n",
    "axs[1].set_ylabel('Loss')\n",
    "axs[1].legend()\n",
    "\n",
    "for l, norm_a in zip(l_coeff, norm_a_list):\n",
    "    axs[2].plot(step_list, norm_a, label = l)\n",
    "#     axs[2].set_xlim(0, 200000)\n",
    "axs[2].set_title('Magnitude of weights')\n",
    "axs[2].set_xlabel('Steps')\n",
    "axs[2].set_ylabel('Magnitude')\n",
    "axs[2].legend()\n",
    "\n",
    "\n",
    "plt.show()"
   ]
  },
  {
   "cell_type": "code",
   "execution_count": 25,
   "metadata": {},
   "outputs": [
    {
     "data": {
      "image/png": "[encoded data removed]",
      "text/plain": [
       "<matplotlib.figure.Figure at 0x11af890b8>"
      ]
     },
     "metadata": {},
     "output_type": "display_data"
    }
   ],
   "source": [
    "fig, ax = plt.subplots()\n",
    "ax.plot(acc_train, label='train accuracy')\n",
    "ax.plot(acc_test, label='test accuracy')\n",
    "ax.set_ylim(0, 1)\n",
    "ax.legend()\n",
    "ax.set_xlabel('epochs')\n",
    "ax.set_ylabel('accuracy')\n",
    "ax.grid()\n",
    "\n",
    "plt.show();"
   ]
  },
  {
   "cell_type": "code",
   "execution_count": null,
   "metadata": {
    "collapsed": true
   },
   "outputs": [],
   "source": []
  }
 ],
 "metadata": {
  "kernelspec": {
   "display_name": "Python 3",
   "language": "python",
   "name": "python3"
  },
  "language_info": {
   "codemirror_mode": {
    "name": "ipython",
    "version": 3
   },
   "file_extension": ".py",
   "mimetype": "text/x-python",
   "name": "python",
   "nbconvert_exporter": "python",
   "pygments_lexer": "ipython3",
   "version": "3.6.7"
  }
 },
 "nbformat": 4,
 "nbformat_minor": 2
}
